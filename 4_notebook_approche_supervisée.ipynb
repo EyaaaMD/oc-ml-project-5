{
 "cells": [
  {
   "cell_type": "markdown",
   "id": "5b793e1e",
   "metadata": {},
   "source": [
    "### Une approche purement supervisée"
   ]
  },
  {
   "cell_type": "markdown",
   "id": "74ef2a66",
   "metadata": {},
   "source": [
    "Lorsqu'il s'agit de résoudre un problème de classification supervisée, le choix du modèle approprié revêt une importance cruciale pour obtenir des performances optimales. \n",
    "Dans le cadre de notre étude sur la prédiction des tags, on a sélectionné quelques algorithmes de classification populaires, chacun avec ses propres caractéristiques et avantages.\n",
    "\n",
    "- **Dummy Classifier** :\n",
    "    Le Dummy Classifier est un modèle de base utilisé comme référence pour évaluer la performance des autres modèles. Il assigne les étiquettes de manière aléatoire ou selon une stratégie simple. Bien qu'il ne fournisse pas de prédictions précises, il est utile pour évaluer si nos modèles sont significativement meilleurs que la prédiction aléatoire.\n",
    "\n",
    "- **SGD Classifier (Stochastic Gradient Descent)** :\n",
    "    Le SGD Classifier est un modèle linéaire entraîné à l'aide de la descente de gradient stochastique. Il est efficace pour traiter de grands ensembles de données et est souvent utilisé dans des scénarios où le nombre de fonctionnalités est élevé. Il peut être utilisé pour une variété de tâches de classification et est particulièrement utile lorsque le temps de formation est un facteur critique.\n",
    "\n",
    "- **Logistic Regression** :\n",
    "    La régression logistique est un modèle linéaire utilisé pour la classification binaire et multiclasse. Malgré son nom, il est principalement utilisé pour la classification plutôt que pour la régression. Il fournit des probabilités de classe et est interprétable, ce qui le rend utile pour comprendre l'importance des fonctionnalités.\n",
    "\n",
    "- **Multinomial Naive Bayes (MultinomialNB)** :\n",
    "    Le modèle Naive Bayes multinomial est basé sur le théorème de Bayes avec une supposition naive d'indépendance entre les fonctionnalités. Il est couramment utilisé pour la classification de texte, en particulier pour les tâches où les fonctionnalités sont des comptages d'occurrences de mots.\n",
    "\n",
    "- **Linear Support Vector Classifier (LinearSVC)** :\n",
    "    Le LinearSVC est une implémentation de SVM (Support Vector Machine) linéaire, qui est un modèle de classification puissant. Il vise à trouver l'hyperplan qui sépare au mieux les classes dans l'espace des fonctionnalités. Le LinearSVC est efficace pour les ensembles de données de grande taille et à haute dimensionnalité.\n",
    "\n",
    "- **Perceptro**n :\n",
    "    Le Perceptron est un modèle de classification linéaire basé sur un neurone artificiel simple. Il est entraîné à l'aide de l'algorithme de descente de gradient stochastique et est adapté aux problèmes de classification binaire.\n",
    "\n",
    "- **Passive Aggressive Classifier** :\n",
    "    Le Passive Aggressive Classifier est un modèle de classification en ligne qui est souvent utilisé pour les tâches de classification de texte. Il est capable de s'adapter rapidement aux nouvelles données et est utile dans les scénarios où les données arrivent en continu.\n",
    "\n",
    "Chacun de ces modèles présente des avantages et des limitations, on va explorer ces différents modèles pour déterminer celui qui offre les meilleures performances pour notre ensemble de données."
   ]
  },
  {
   "cell_type": "markdown",
   "id": "e28157d9",
   "metadata": {},
   "source": [
    "### Méthodes d’évaluation"
   ]
  },
  {
   "cell_type": "markdown",
   "id": "852f6b62",
   "metadata": {},
   "source": [
    "\n",
    "\n",
    "- **Jaccard Score** :\n",
    "    Le score Jaccard est une mesure de similarité entre deux ensembles. Dans le contexte de la classification multi-labels, il mesure la similarité entre les ensembles de vrais et de prédictions étiquetés. Il est calculé en divisant la taille de l'intersection des ensembles par la taille de leur union. \n",
    "  => Plus le score Jaccard est proche de 1, plus les ensembles sont similaires.\n",
    "\n",
    "- **Hamming Loss** :\n",
    "    La perte de Hamming mesure la fraction des étiquettes mal prédites par rapport au nombre total d'étiquettes. Elle est calculée en prenant la moyenne des erreurs de prédiction pour chaque échantillon. \n",
    "  => Une Hamming loss de 0 indique une prédiction parfaite, et une Hamming loss de 1 indique une prédiction complètement incorrecte.\n",
    "\n",
    "- **Accuracy (Précision)** :\n",
    "    L'exactitude mesure la proportion d'étiquettes correctement prédites par rapport au nombre total d'étiquettes. C'est une mesure globale de la performance du modèle. \n",
    "  => Une précision de 1 indique une prédiction parfaite, tandis qu'une précision de 0 indique une prédiction complètement incorrecte.\n",
    "\n",
    "- **Precision (Précision)** :\n",
    "    La précision mesure la proportion d'étiquettes prédites comme positives qui sont réellement positives. Elle est calculée en divisant le nombre de vrais positifs par la somme des vrais positifs et des faux positifs. \n",
    "  => Une précision élevée indique un faible taux de faux positifs.\n",
    "\n",
    "- **Recall (Rappel)** :\n",
    "    Le rappel mesure la proportion d'étiquettes positives réellement prédites par rapport à toutes les étiquettes positives. Il est calculé en divisant le nombre de vrais positifs par la somme des vrais positifs et des faux négatifs. \n",
    "  => Un rappel élevé indique un faible taux de faux négatifs.\n",
    "\n",
    "Ces métriques d'évaluation sont importantes pour évaluer la performance des modèles de classification multi-labels. "
   ]
  },
  {
   "cell_type": "markdown",
   "id": "e877bb0e",
   "metadata": {},
   "source": [
    "###### imports"
   ]
  },
  {
   "cell_type": "code",
   "execution_count": 5,
   "id": "3df803b0",
   "metadata": {},
   "outputs": [],
   "source": [
    "import pandas as pd\n",
    "import numpy as np\n",
    "\n",
    "from sklearn.preprocessing import MultiLabelBinarizer\n",
    "from sklearn.feature_extraction.text import TfidfVectorizer\n",
    "from sklearn.model_selection import train_test_split\n",
    "\n",
    "from sklearn.dummy import DummyClassifier\n",
    "from sklearn.linear_model import SGDClassifier, LogisticRegression, Perceptron, PassiveAggressiveClassifier\n",
    "from sklearn.naive_bayes import MultinomialNB\n",
    "from sklearn.svm import LinearSVC\n",
    "\n",
    "from sklearn.multiclass import OneVsRestClassifier\n",
    "from sklearn.metrics import hamming_loss, accuracy_score, precision_score, recall_score, f1_score"
   ]
  },
  {
   "cell_type": "code",
   "execution_count": 6,
   "id": "977659d0",
   "metadata": {},
   "outputs": [],
   "source": [
    "import warnings\n",
    "\n",
    "# Ignorer tous les avertissements\n",
    "warnings.filterwarnings(\"ignore\")\n"
   ]
  },
  {
   "cell_type": "code",
   "execution_count": 7,
   "id": "0758999b",
   "metadata": {},
   "outputs": [],
   "source": [
    "data = pd.read_csv(f'data_final.csv')"
   ]
  },
  {
   "cell_type": "code",
   "execution_count": 8,
   "id": "cee45fa5",
   "metadata": {},
   "outputs": [],
   "source": [
    "# Supprimer la colonne Unnamed: 0\n",
    "data = data.drop(columns=['Unnamed: 0'])"
   ]
  },
  {
   "cell_type": "code",
   "execution_count": 9,
   "id": "c6554dec",
   "metadata": {},
   "outputs": [
    {
     "data": {
      "text/html": [
       "<div>\n",
       "<style scoped>\n",
       "    .dataframe tbody tr th:only-of-type {\n",
       "        vertical-align: middle;\n",
       "    }\n",
       "\n",
       "    .dataframe tbody tr th {\n",
       "        vertical-align: top;\n",
       "    }\n",
       "\n",
       "    .dataframe thead th {\n",
       "        text-align: right;\n",
       "    }\n",
       "</style>\n",
       "<table border=\"1\" class=\"dataframe\">\n",
       "  <thead>\n",
       "    <tr style=\"text-align: right;\">\n",
       "      <th></th>\n",
       "      <th>Question</th>\n",
       "      <th>Tags</th>\n",
       "      <th>nb_tags</th>\n",
       "      <th>question_length</th>\n",
       "    </tr>\n",
       "  </thead>\n",
       "  <tbody>\n",
       "    <tr>\n",
       "      <th>0</th>\n",
       "      <td>fastest way get value looking fastest way obta...</td>\n",
       "      <td>performance algorithm</td>\n",
       "      <td>2</td>\n",
       "      <td>197</td>\n",
       "    </tr>\n",
       "    <tr>\n",
       "      <th>1</th>\n",
       "      <td>use socket api issue getting socket api work p...</td>\n",
       "      <td>c++ c</td>\n",
       "      <td>2</td>\n",
       "      <td>106</td>\n",
       "    </tr>\n",
       "    <tr>\n",
       "      <th>2</th>\n",
       "      <td>net xml comment api documentation easy way pro...</td>\n",
       "      <td>visual-studio</td>\n",
       "      <td>1</td>\n",
       "      <td>78</td>\n",
       "    </tr>\n",
       "  </tbody>\n",
       "</table>\n",
       "</div>"
      ],
      "text/plain": [
       "                                            Question                   Tags  \\\n",
       "0  fastest way get value looking fastest way obta...  performance algorithm   \n",
       "1  use socket api issue getting socket api work p...                  c++ c   \n",
       "2  net xml comment api documentation easy way pro...          visual-studio   \n",
       "\n",
       "   nb_tags  question_length  \n",
       "0        2              197  \n",
       "1        2              106  \n",
       "2        1               78  "
      ]
     },
     "execution_count": 9,
     "metadata": {},
     "output_type": "execute_result"
    }
   ],
   "source": [
    "data.head(3)"
   ]
  },
  {
   "cell_type": "code",
   "execution_count": 10,
   "id": "5b83da0f",
   "metadata": {},
   "outputs": [],
   "source": [
    "data['Tags'] = data['Tags'].str.split()"
   ]
  },
  {
   "cell_type": "code",
   "execution_count": 11,
   "id": "52a78008",
   "metadata": {},
   "outputs": [],
   "source": [
    "# Prendre un échantillon aléatoire de 2000 lignes du DataFrame\n",
    "sample_data = data.sample(n=2000, random_state=42)"
   ]
  },
  {
   "cell_type": "code",
   "execution_count": 12,
   "id": "74b5add8",
   "metadata": {},
   "outputs": [],
   "source": [
    "X = sample_data['Question']\n",
    "y = sample_data['Tags']"
   ]
  },
  {
   "cell_type": "code",
   "execution_count": 13,
   "id": "91e0ea02",
   "metadata": {},
   "outputs": [
    {
     "data": {
      "text/plain": [
       "['database', 'algorithm']"
      ]
     },
     "execution_count": 13,
     "metadata": {},
     "output_type": "execute_result"
    }
   ],
   "source": [
    "y.iloc[0]"
   ]
  },
  {
   "cell_type": "code",
   "execution_count": 14,
   "id": "b0a9df28",
   "metadata": {},
   "outputs": [],
   "source": [
    "multilabel_binarizer = MultiLabelBinarizer()\n",
    "y_bin = multilabel_binarizer.fit_transform(y)"
   ]
  },
  {
   "cell_type": "code",
   "execution_count": 15,
   "id": "567a2cd8",
   "metadata": {},
   "outputs": [
    {
     "data": {
      "text/plain": [
       "array([[1, 0, 0, 0, 0, 0, 0, 0, 0, 0, 0, 0, 1, 0, 0, 0, 0, 0, 0, 0, 0, 0,\n",
       "        0, 0, 0, 0, 0, 0, 0, 0, 0, 0, 0, 0, 0, 0, 0, 0, 0, 0, 0, 0, 0, 0,\n",
       "        0, 0, 0, 0, 0],\n",
       "       [0, 0, 0, 0, 0, 0, 1, 0, 1, 0, 0, 0, 0, 0, 0, 0, 0, 0, 0, 0, 0, 0,\n",
       "        0, 0, 0, 0, 0, 0, 0, 0, 0, 0, 0, 0, 0, 0, 0, 0, 0, 0, 0, 0, 0, 0,\n",
       "        0, 0, 0, 0, 0]])"
      ]
     },
     "execution_count": 15,
     "metadata": {},
     "output_type": "execute_result"
    }
   ],
   "source": [
    "y_bin[:2]"
   ]
  },
  {
   "cell_type": "code",
   "execution_count": 16,
   "id": "bcaba3a9",
   "metadata": {},
   "outputs": [
    {
     "data": {
      "text/plain": [
       "[(0, 1), (12, 1)]"
      ]
     },
     "execution_count": 16,
     "metadata": {},
     "output_type": "execute_result"
    }
   ],
   "source": [
    "[(index_label, yy) for (index_label, yy) in enumerate(y_bin[0]) if yy==1]"
   ]
  },
  {
   "cell_type": "code",
   "execution_count": 17,
   "id": "5274fb72",
   "metadata": {},
   "outputs": [
    {
     "name": "stdout",
     "output_type": "stream",
     "text": [
      "['algorithm' 'amazon-web-services' 'android' 'angular' 'arrays' 'asp.net'\n",
      " 'asp.net-mvc' 'c' 'c#' 'c++' 'c++11' 'css' 'database' 'django' 'docker'\n",
      " 'gcc' 'html' 'ios' 'iphone' 'java' 'javascript' 'jquery' 'json' 'linux'\n",
      " 'macos' 'multithreading' 'mysql' 'node.js' 'objective-c' 'pandas'\n",
      " 'performance' 'php' 'postgresql' 'python' 'r' 'reactjs' 'ruby'\n",
      " 'ruby-on-rails' 'spring' 'spring-boot' 'sql' 'sql-server' 'string'\n",
      " 'swift' 'typescript' 'unit-testing' 'visual-studio' 'windows' 'xcode']\n"
     ]
    },
    {
     "data": {
      "text/plain": [
       "49"
      ]
     },
     "execution_count": 17,
     "metadata": {},
     "output_type": "execute_result"
    }
   ],
   "source": [
    "classes = multilabel_binarizer.classes_\n",
    "print(classes)\n",
    "len(classes)"
   ]
  },
  {
   "cell_type": "code",
   "execution_count": 18,
   "id": "4bde9827",
   "metadata": {},
   "outputs": [],
   "source": [
    "vectorizer_X = TfidfVectorizer(analyzer = 'word',\n",
    "                                       min_df=0.0,\n",
    "                                       max_df = 1.0,\n",
    "                                       strip_accents = None,\n",
    "                                       encoding = 'utf-8', \n",
    "                                       preprocessor=None,\n",
    "                                       token_pattern=r\"(?u)\\S\\S+\",\n",
    "                                       max_features=1000)\n"
   ]
  },
  {
   "cell_type": "code",
   "execution_count": 19,
   "id": "836685eb",
   "metadata": {},
   "outputs": [],
   "source": [
    "X_tfidf = vectorizer_X.fit_transform(X)"
   ]
  },
  {
   "cell_type": "code",
   "execution_count": 20,
   "id": "a0124931",
   "metadata": {},
   "outputs": [],
   "source": [
    "X_train, X_test, y_train, y_test = train_test_split(X_tfidf, y_bin, test_size = 0.2, random_state = 0) # Do 80/20 split"
   ]
  },
  {
   "cell_type": "code",
   "execution_count": 21,
   "id": "cf1ad990",
   "metadata": {},
   "outputs": [
    {
     "data": {
      "text/plain": [
       "array([[0, 0, 0, ..., 0, 0, 0],\n",
       "       [0, 0, 0, ..., 0, 0, 0],\n",
       "       [0, 0, 1, ..., 0, 0, 0],\n",
       "       ...,\n",
       "       [0, 0, 0, ..., 0, 0, 0],\n",
       "       [0, 0, 0, ..., 0, 0, 0],\n",
       "       [0, 0, 0, ..., 0, 0, 0]])"
      ]
     },
     "execution_count": 21,
     "metadata": {},
     "output_type": "execute_result"
    }
   ],
   "source": [
    "y_test"
   ]
  },
  {
   "cell_type": "markdown",
   "id": "c4866009",
   "metadata": {},
   "source": [
    "Pour évaluer les modèles, on va utiliser le score Jaccard car il est le mieux adapté à la classification multi labels"
   ]
  },
  {
   "cell_type": "code",
   "execution_count": 22,
   "id": "3d668e88",
   "metadata": {},
   "outputs": [],
   "source": [
    "def jacard_score(y_true,y_pred):\n",
    "    jacard = np.minimum(y_true,y_pred).sum(axis=1) / np.maximum(y_true,y_pred).sum(axis=1)\n",
    "    return jacard.mean()*100"
   ]
  },
  {
   "cell_type": "code",
   "execution_count": 23,
   "id": "00abbcf3",
   "metadata": {},
   "outputs": [],
   "source": [
    "def calculate_results(y_pred, y_test, model):\n",
    "    jaccard = jacard_score(y_test, y_pred)\n",
    "    hamming = hamming_loss(y_test, y_pred) \n",
    "    accuracy = accuracy_score(y_test, y_pred) \n",
    "    precision = precision_score(y_test, y_pred, average='samples')\n",
    "    recall = recall_score(y_test, y_pred, average='samples') \n",
    "    f1 = f1_score(y_test, y_pred, average='macro')\n",
    "    return jaccard, hamming, accuracy, precision, recall, f1\n"
   ]
  },
  {
   "cell_type": "code",
   "execution_count": 24,
   "id": "4733ea28",
   "metadata": {},
   "outputs": [],
   "source": [
    "dummy = DummyClassifier()\n",
    "sgd = SGDClassifier()\n",
    "lr = LogisticRegression()\n",
    "mn = MultinomialNB()\n",
    "svc = LinearSVC()\n",
    "perceptron = Perceptron()\n",
    "pac = PassiveAggressiveClassifier()\n",
    "\n"
   ]
  },
  {
   "cell_type": "code",
   "execution_count": 25,
   "id": "c0d9c6b7",
   "metadata": {},
   "outputs": [],
   "source": [
    "# Définir les classificateurs à tester\n",
    "classifiers = [DummyClassifier(), SGDClassifier(), LogisticRegression(), MultinomialNB(), \n",
    "               LinearSVC(), Perceptron(), PassiveAggressiveClassifier()]\n",
    "\n",
    "# Initialiser une liste pour stocker les résultats\n",
    "results_list = []\n",
    "\n",
    "# Définir les noms des modèles\n",
    "model_names = ['Dummy', 'SGD', 'Logistic Regression', 'Multinomial NB', 'Linear SVC', 'Perceptron', 'Passive Aggressive']\n",
    "\n",
    "# Définir les méthodes d'évaluation\n",
    "evaluation_methods = ['Jaccard score', 'Hamming loss', 'Accuracy', 'Precision', 'Recall', 'f1']\n",
    "\n",
    "# Boucler sur chaque classificateur\n",
    "for classifier, model_name in zip(classifiers, model_names):\n",
    "    # Créer le modèle OneVsRestClassifier\n",
    "    model = OneVsRestClassifier(classifier)\n",
    "    \n",
    "    # Entraîner le modèle\n",
    "    model.fit(X_train, y_train)\n",
    "    \n",
    "    # Faire des prédictions\n",
    "    y_pred = model.predict(X_test)\n",
    "    \n",
    "    # Calculer les résultats\n",
    "    jaccard, hamming, accuracy, precision, recall, f1 = calculate_results(y_pred, y_test, model)\n",
    "    \n",
    "    # Ajouter les résultats à la liste\n",
    "    results_list.append([model_name, jaccard, hamming, accuracy, precision, recall, f1])\n",
    "\n",
    "# Convertir la liste en DataFrame\n",
    "results_df = pd.DataFrame(results_list, columns=['Modèle'] + evaluation_methods)\n",
    "\n",
    "# Transposer le DataFrame pour avoir les modèles en colonnes et les méthodes d'évaluation en lignes\n",
    "results_df = results_df.set_index('Modèle').T\n"
   ]
  },
  {
   "cell_type": "code",
   "execution_count": 26,
   "id": "8299d6ed",
   "metadata": {},
   "outputs": [
    {
     "data": {
      "text/html": [
       "<div>\n",
       "<style scoped>\n",
       "    .dataframe tbody tr th:only-of-type {\n",
       "        vertical-align: middle;\n",
       "    }\n",
       "\n",
       "    .dataframe tbody tr th {\n",
       "        vertical-align: top;\n",
       "    }\n",
       "\n",
       "    .dataframe thead th {\n",
       "        text-align: right;\n",
       "    }\n",
       "</style>\n",
       "<table border=\"1\" class=\"dataframe\">\n",
       "  <thead>\n",
       "    <tr style=\"text-align: right;\">\n",
       "      <th>Modèle</th>\n",
       "      <th>Dummy</th>\n",
       "      <th>SGD</th>\n",
       "      <th>Logistic Regression</th>\n",
       "      <th>Multinomial NB</th>\n",
       "      <th>Linear SVC</th>\n",
       "      <th>Perceptron</th>\n",
       "      <th>Passive Aggressive</th>\n",
       "    </tr>\n",
       "  </thead>\n",
       "  <tbody>\n",
       "    <tr>\n",
       "      <th>Jaccard score</th>\n",
       "      <td>0.000000</td>\n",
       "      <td>36.414881</td>\n",
       "      <td>10.254167</td>\n",
       "      <td>6.254167</td>\n",
       "      <td>34.212500</td>\n",
       "      <td>35.239881</td>\n",
       "      <td>38.023214</td>\n",
       "    </tr>\n",
       "    <tr>\n",
       "      <th>Hamming loss</th>\n",
       "      <td>0.034745</td>\n",
       "      <td>0.029745</td>\n",
       "      <td>0.032092</td>\n",
       "      <td>0.032908</td>\n",
       "      <td>0.026888</td>\n",
       "      <td>0.037551</td>\n",
       "      <td>0.031378</td>\n",
       "    </tr>\n",
       "    <tr>\n",
       "      <th>Accuracy</th>\n",
       "      <td>0.000000</td>\n",
       "      <td>0.200000</td>\n",
       "      <td>0.072500</td>\n",
       "      <td>0.035000</td>\n",
       "      <td>0.227500</td>\n",
       "      <td>0.182500</td>\n",
       "      <td>0.227500</td>\n",
       "    </tr>\n",
       "    <tr>\n",
       "      <th>Precision</th>\n",
       "      <td>0.000000</td>\n",
       "      <td>0.463333</td>\n",
       "      <td>0.136250</td>\n",
       "      <td>0.087917</td>\n",
       "      <td>0.443542</td>\n",
       "      <td>0.446000</td>\n",
       "      <td>0.479375</td>\n",
       "    </tr>\n",
       "    <tr>\n",
       "      <th>Recall</th>\n",
       "      <td>0.000000</td>\n",
       "      <td>0.434125</td>\n",
       "      <td>0.102667</td>\n",
       "      <td>0.067125</td>\n",
       "      <td>0.364958</td>\n",
       "      <td>0.449333</td>\n",
       "      <td>0.453292</td>\n",
       "    </tr>\n",
       "    <tr>\n",
       "      <th>f1</th>\n",
       "      <td>0.000000</td>\n",
       "      <td>0.398650</td>\n",
       "      <td>0.052032</td>\n",
       "      <td>0.051079</td>\n",
       "      <td>0.367560</td>\n",
       "      <td>0.368399</td>\n",
       "      <td>0.411051</td>\n",
       "    </tr>\n",
       "  </tbody>\n",
       "</table>\n",
       "</div>"
      ],
      "text/plain": [
       "Modèle            Dummy        SGD  Logistic Regression  Multinomial NB  \\\n",
       "Jaccard score  0.000000  36.414881            10.254167        6.254167   \n",
       "Hamming loss   0.034745   0.029745             0.032092        0.032908   \n",
       "Accuracy       0.000000   0.200000             0.072500        0.035000   \n",
       "Precision      0.000000   0.463333             0.136250        0.087917   \n",
       "Recall         0.000000   0.434125             0.102667        0.067125   \n",
       "f1             0.000000   0.398650             0.052032        0.051079   \n",
       "\n",
       "Modèle         Linear SVC  Perceptron  Passive Aggressive  \n",
       "Jaccard score   34.212500   35.239881           38.023214  \n",
       "Hamming loss     0.026888    0.037551            0.031378  \n",
       "Accuracy         0.227500    0.182500            0.227500  \n",
       "Precision        0.443542    0.446000            0.479375  \n",
       "Recall           0.364958    0.449333            0.453292  \n",
       "f1               0.367560    0.368399            0.411051  "
      ]
     },
     "execution_count": 26,
     "metadata": {},
     "output_type": "execute_result"
    }
   ],
   "source": [
    "results_df"
   ]
  },
  {
   "cell_type": "code",
   "execution_count": 27,
   "id": "d4d96a62",
   "metadata": {},
   "outputs": [
    {
     "data": {
      "text/html": [
       "<style>#sk-container-id-1 {color: black;}#sk-container-id-1 pre{padding: 0;}#sk-container-id-1 div.sk-toggleable {background-color: white;}#sk-container-id-1 label.sk-toggleable__label {cursor: pointer;display: block;width: 100%;margin-bottom: 0;padding: 0.3em;box-sizing: border-box;text-align: center;}#sk-container-id-1 label.sk-toggleable__label-arrow:before {content: \"▸\";float: left;margin-right: 0.25em;color: #696969;}#sk-container-id-1 label.sk-toggleable__label-arrow:hover:before {color: black;}#sk-container-id-1 div.sk-estimator:hover label.sk-toggleable__label-arrow:before {color: black;}#sk-container-id-1 div.sk-toggleable__content {max-height: 0;max-width: 0;overflow: hidden;text-align: left;background-color: #f0f8ff;}#sk-container-id-1 div.sk-toggleable__content pre {margin: 0.2em;color: black;border-radius: 0.25em;background-color: #f0f8ff;}#sk-container-id-1 input.sk-toggleable__control:checked~div.sk-toggleable__content {max-height: 200px;max-width: 100%;overflow: auto;}#sk-container-id-1 input.sk-toggleable__control:checked~label.sk-toggleable__label-arrow:before {content: \"▾\";}#sk-container-id-1 div.sk-estimator input.sk-toggleable__control:checked~label.sk-toggleable__label {background-color: #d4ebff;}#sk-container-id-1 div.sk-label input.sk-toggleable__control:checked~label.sk-toggleable__label {background-color: #d4ebff;}#sk-container-id-1 input.sk-hidden--visually {border: 0;clip: rect(1px 1px 1px 1px);clip: rect(1px, 1px, 1px, 1px);height: 1px;margin: -1px;overflow: hidden;padding: 0;position: absolute;width: 1px;}#sk-container-id-1 div.sk-estimator {font-family: monospace;background-color: #f0f8ff;border: 1px dotted black;border-radius: 0.25em;box-sizing: border-box;margin-bottom: 0.5em;}#sk-container-id-1 div.sk-estimator:hover {background-color: #d4ebff;}#sk-container-id-1 div.sk-parallel-item::after {content: \"\";width: 100%;border-bottom: 1px solid gray;flex-grow: 1;}#sk-container-id-1 div.sk-label:hover label.sk-toggleable__label {background-color: #d4ebff;}#sk-container-id-1 div.sk-serial::before {content: \"\";position: absolute;border-left: 1px solid gray;box-sizing: border-box;top: 0;bottom: 0;left: 50%;z-index: 0;}#sk-container-id-1 div.sk-serial {display: flex;flex-direction: column;align-items: center;background-color: white;padding-right: 0.2em;padding-left: 0.2em;position: relative;}#sk-container-id-1 div.sk-item {position: relative;z-index: 1;}#sk-container-id-1 div.sk-parallel {display: flex;align-items: stretch;justify-content: center;background-color: white;position: relative;}#sk-container-id-1 div.sk-item::before, #sk-container-id-1 div.sk-parallel-item::before {content: \"\";position: absolute;border-left: 1px solid gray;box-sizing: border-box;top: 0;bottom: 0;left: 50%;z-index: -1;}#sk-container-id-1 div.sk-parallel-item {display: flex;flex-direction: column;z-index: 1;position: relative;background-color: white;}#sk-container-id-1 div.sk-parallel-item:first-child::after {align-self: flex-end;width: 50%;}#sk-container-id-1 div.sk-parallel-item:last-child::after {align-self: flex-start;width: 50%;}#sk-container-id-1 div.sk-parallel-item:only-child::after {width: 0;}#sk-container-id-1 div.sk-dashed-wrapped {border: 1px dashed gray;margin: 0 0.4em 0.5em 0.4em;box-sizing: border-box;padding-bottom: 0.4em;background-color: white;}#sk-container-id-1 div.sk-label label {font-family: monospace;font-weight: bold;display: inline-block;line-height: 1.2em;}#sk-container-id-1 div.sk-label-container {text-align: center;}#sk-container-id-1 div.sk-container {/* jupyter's `normalize.less` sets `[hidden] { display: none; }` but bootstrap.min.css set `[hidden] { display: none !important; }` so we also need the `!important` here to be able to override the default hidden behavior on the sphinx rendered scikit-learn.org. See: https://github.com/scikit-learn/scikit-learn/issues/21755 */display: inline-block !important;position: relative;}#sk-container-id-1 div.sk-text-repr-fallback {display: none;}</style><div id=\"sk-container-id-1\" class=\"sk-top-container\"><div class=\"sk-text-repr-fallback\"><pre>OneVsRestClassifier(estimator=SGDClassifier())</pre><b>In a Jupyter environment, please rerun this cell to show the HTML representation or trust the notebook. <br />On GitHub, the HTML representation is unable to render, please try loading this page with nbviewer.org.</b></div><div class=\"sk-container\" hidden><div class=\"sk-item sk-dashed-wrapped\"><div class=\"sk-label-container\"><div class=\"sk-label sk-toggleable\"><input class=\"sk-toggleable__control sk-hidden--visually\" id=\"sk-estimator-id-1\" type=\"checkbox\" ><label for=\"sk-estimator-id-1\" class=\"sk-toggleable__label sk-toggleable__label-arrow\">OneVsRestClassifier</label><div class=\"sk-toggleable__content\"><pre>OneVsRestClassifier(estimator=SGDClassifier())</pre></div></div></div><div class=\"sk-parallel\"><div class=\"sk-parallel-item\"><div class=\"sk-item\"><div class=\"sk-label-container\"><div class=\"sk-label sk-toggleable\"><input class=\"sk-toggleable__control sk-hidden--visually\" id=\"sk-estimator-id-2\" type=\"checkbox\" ><label for=\"sk-estimator-id-2\" class=\"sk-toggleable__label sk-toggleable__label-arrow\">estimator: SGDClassifier</label><div class=\"sk-toggleable__content\"><pre>SGDClassifier()</pre></div></div></div><div class=\"sk-serial\"><div class=\"sk-item\"><div class=\"sk-estimator sk-toggleable\"><input class=\"sk-toggleable__control sk-hidden--visually\" id=\"sk-estimator-id-3\" type=\"checkbox\" ><label for=\"sk-estimator-id-3\" class=\"sk-toggleable__label sk-toggleable__label-arrow\">SGDClassifier</label><div class=\"sk-toggleable__content\"><pre>SGDClassifier()</pre></div></div></div></div></div></div></div></div></div></div>"
      ],
      "text/plain": [
       "OneVsRestClassifier(estimator=SGDClassifier())"
      ]
     },
     "execution_count": 27,
     "metadata": {},
     "output_type": "execute_result"
    }
   ],
   "source": [
    "model = OneVsRestClassifier(SGDClassifier())\n",
    "\n",
    "# Entraîner le modèle\n",
    "model.fit(X_train, y_train)"
   ]
  },
  {
   "cell_type": "code",
   "execution_count": 28,
   "id": "98fa6364",
   "metadata": {},
   "outputs": [
    {
     "data": {
      "text/plain": [
       "['multilabel_binarizer.joblib']"
      ]
     },
     "execution_count": 28,
     "metadata": {},
     "output_type": "execute_result"
    }
   ],
   "source": [
    "from joblib import dump, load\n",
    "\n",
    "# Save the model\n",
    "dump(model, 'model_sgd.joblib')\n",
    "dump(vectorizer_X, 'vectorizer_X.joblib')\n",
    "dump(multilabel_binarizer, 'multilabel_binarizer.joblib')"
   ]
  },
  {
   "cell_type": "code",
   "execution_count": 29,
   "id": "93735a14",
   "metadata": {},
   "outputs": [],
   "source": [
    "# Load the model\n",
    "loaded_model = load('model_sgd.joblib')\n",
    "loaded_vectorizer = load('vectorizer_X.joblib')\n"
   ]
  },
  {
   "cell_type": "code",
   "execution_count": 30,
   "id": "cb4e861e",
   "metadata": {},
   "outputs": [
    {
     "data": {
      "text/plain": [
       "(400, 1000)"
      ]
     },
     "execution_count": 30,
     "metadata": {},
     "output_type": "execute_result"
    }
   ],
   "source": [
    "X_test.shape"
   ]
  },
  {
   "cell_type": "markdown",
   "id": "a8c1a900",
   "metadata": {},
   "source": [
    "Test"
   ]
  },
  {
   "cell_type": "code",
   "execution_count": 43,
   "id": "cd0201fb",
   "metadata": {},
   "outputs": [
    {
     "data": {
      "text/plain": [
       "<1x1000 sparse matrix of type '<class 'numpy.float64'>'\n",
       "\twith 5 stored elements in Compressed Sparse Row format>"
      ]
     },
     "execution_count": 43,
     "metadata": {},
     "output_type": "execute_result"
    }
   ],
   "source": [
    "x = loaded_vectorizer.transform([\"how to install api with python? is java that hard? can you help me with python\"])\n",
    "x"
   ]
  },
  {
   "cell_type": "code",
   "execution_count": 44,
   "id": "bbdee727",
   "metadata": {},
   "outputs": [],
   "source": [
    "predictions = loaded_model.predict(x)"
   ]
  },
  {
   "cell_type": "code",
   "execution_count": 45,
   "id": "d24398ef",
   "metadata": {},
   "outputs": [
    {
     "data": {
      "text/plain": [
       "array([[0, 0, 0, 0, 0, 0, 0, 0, 0, 0, 0, 0, 0, 0, 0, 0, 0, 0, 0, 1, 0, 0,\n",
       "        0, 0, 0, 0, 0, 0, 0, 0, 0, 0, 0, 1, 0, 0, 0, 0, 0, 0, 0, 0, 0, 0,\n",
       "        0, 0, 0, 0, 0]])"
      ]
     },
     "execution_count": 45,
     "metadata": {},
     "output_type": "execute_result"
    }
   ],
   "source": [
    "predictions\n"
   ]
  },
  {
   "cell_type": "code",
   "execution_count": 46,
   "id": "9730741d",
   "metadata": {},
   "outputs": [
    {
     "name": "stdout",
     "output_type": "stream",
     "text": [
      "Predicted labels: ['java', 'python']\n"
     ]
    }
   ],
   "source": [
    "predicted_labels = [classes[i] for i, prediction in enumerate(predictions[0]) if prediction == 1]\n",
    "\n",
    "print(\"Predicted labels:\", predicted_labels)\n"
   ]
  }
 ],
 "metadata": {
  "kernelspec": {
   "display_name": "Python 3 (ipykernel)",
   "language": "python",
   "name": "python3"
  },
  "language_info": {
   "codemirror_mode": {
    "name": "ipython",
    "version": 3
   },
   "file_extension": ".py",
   "mimetype": "text/x-python",
   "name": "python",
   "nbconvert_exporter": "python",
   "pygments_lexer": "ipython3",
   "version": "3.11.5"
  }
 },
 "nbformat": 4,
 "nbformat_minor": 5
}
