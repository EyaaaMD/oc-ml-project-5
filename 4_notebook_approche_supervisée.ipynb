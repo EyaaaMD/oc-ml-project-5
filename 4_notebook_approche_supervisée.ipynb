{
 "cells": [
  {
   "cell_type": "markdown",
   "id": "5b793e1e",
   "metadata": {},
   "source": [
    "### Une approche purement supervisée"
   ]
  },
  {
   "cell_type": "markdown",
   "id": "74ef2a66",
   "metadata": {},
   "source": [
    "Lorsqu'il s'agit de résoudre un problème de classification supervisée, le choix du modèle approprié revêt une importance cruciale pour obtenir des performances optimales. \n",
    "Dans le cadre de notre étude sur la prédiction des tags, on a sélectionné quelques algorithmes de classification populaires, chacun avec ses propres caractéristiques et avantages.\n",
    "\n",
    "- **SGD Classifier (Stochastic Gradient Descent)** :\n",
    "    Le SGD Classifier est un modèle linéaire entraîné à l'aide de la descente de gradient stochastique. Il est efficace pour traiter de grands ensembles de données et est souvent utilisé dans des scénarios où le nombre de fonctionnalités est élevé. Il peut être utilisé pour une variété de tâches de classification et est particulièrement utile lorsque le temps de formation est un facteur critique.\n",
    "\n",
    "- **Logistic Regression** :\n",
    "    La régression logistique est un modèle linéaire utilisé pour la classification binaire et multiclasse. Malgré son nom, il est principalement utilisé pour la classification plutôt que pour la régression. Il fournit des probabilités de classe et est interprétable, ce qui le rend utile pour comprendre l'importance des fonctionnalités.\n",
    "\n",
    "- **Multinomial Naive Bayes (MultinomialNB)** :\n",
    "    Le modèle Naive Bayes multinomial est basé sur le théorème de Bayes avec une supposition naive d'indépendance entre les fonctionnalités. Il est couramment utilisé pour la classification de texte, en particulier pour les tâches où les fonctionnalités sont des comptages d'occurrences de mots.\n",
    "\n",
    "- **Linear Support Vector Classifier (LinearSVC)** :\n",
    "    Le LinearSVC est une implémentation de SVM (Support Vector Machine) linéaire, qui est un modèle de classification puissant. Il vise à trouver l'hyperplan qui sépare au mieux les classes dans l'espace des fonctionnalités. Le LinearSVC est efficace pour les ensembles de données de grande taille et à haute dimensionnalité.\n",
    "\n",
    "\n"
   ]
  },
  {
   "cell_type": "markdown",
   "id": "4a0dbaef",
   "metadata": {},
   "source": [
    "Justification du Choix\n",
    "\n",
    " - SGDClassifier : Choisi pour sa flexibilité et sa capacité à traiter de grands ensembles de données.\n",
    " - Logistic Regression : Sert de baseline robuste et est souvent performant.\n",
    " - Multinomial Naive Bayes : Idéal pour les données textuelles, rapide et efficace.\n",
    " - Linear SVC : Robuste et performant, particulièrement adapté aux tâches de classification de grande dimension.\n",
    "\n"
   ]
  },
  {
   "cell_type": "markdown",
   "id": "e28157d9",
   "metadata": {},
   "source": [
    "### Méthodes d’évaluation"
   ]
  },
  {
   "cell_type": "markdown",
   "id": "852f6b62",
   "metadata": {},
   "source": [
    "\n",
    "\n",
    "- **Jaccard Score** :\n",
    "    Le score Jaccard est une mesure de similarité entre deux ensembles. Dans le contexte de la classification multi-labels, il mesure la similarité entre les ensembles de vrais et de prédictions étiquetés. Il est calculé en divisant la taille de l'intersection des ensembles par la taille de leur union. \n",
    "  => Plus le score Jaccard est proche de 1, plus les ensembles sont similaires.\n",
    "\n",
    "- **Hamming Loss** :\n",
    "    La perte de Hamming mesure la fraction des étiquettes mal prédites par rapport au nombre total d'étiquettes. Elle est calculée en prenant la moyenne des erreurs de prédiction pour chaque échantillon. \n",
    "  => Une Hamming loss de 0 indique une prédiction parfaite, et une Hamming loss de 1 indique une prédiction complètement incorrecte.\n",
    "\n",
    "- **Accuracy (Précision)** :\n",
    "    L'exactitude mesure la proportion d'étiquettes correctement prédites par rapport au nombre total d'étiquettes. C'est une mesure globale de la performance du modèle. \n",
    "  => Une précision de 1 indique une prédiction parfaite, tandis qu'une précision de 0 indique une prédiction complètement incorrecte.\n",
    "\n",
    "- **Precision (Précision)** :\n",
    "    La précision mesure la proportion d'étiquettes prédites comme positives qui sont réellement positives. Elle est calculée en divisant le nombre de vrais positifs par la somme des vrais positifs et des faux positifs. \n",
    "  => Une précision élevée indique un faible taux de faux positifs.\n",
    "\n",
    "- **Recall (Rappel)** :\n",
    "    Le rappel mesure la proportion d'étiquettes positives réellement prédites par rapport à toutes les étiquettes positives. Il est calculé en divisant le nombre de vrais positifs par la somme des vrais positifs et des faux négatifs. \n",
    "  => Un rappel élevé indique un faible taux de faux négatifs.\n",
    "\n",
    "Ces métriques d'évaluation sont importantes pour évaluer la performance des modèles de classification multi-labels. "
   ]
  },
  {
   "cell_type": "markdown",
   "id": "e877bb0e",
   "metadata": {},
   "source": [
    "###### imports"
   ]
  },
  {
   "cell_type": "code",
   "execution_count": 1,
   "id": "3df803b0",
   "metadata": {},
   "outputs": [],
   "source": [
    "import pandas as pd\n",
    "import numpy as np\n",
    "\n",
    "from sklearn.preprocessing import MultiLabelBinarizer\n",
    "from sklearn.feature_extraction.text import TfidfVectorizer\n",
    "from sklearn.model_selection import train_test_split\n",
    "\n",
    "from sklearn.linear_model import SGDClassifier, LogisticRegression\n",
    "from sklearn.naive_bayes import MultinomialNB\n",
    "from sklearn.svm import LinearSVC\n",
    "\n",
    "from sklearn.multiclass import OneVsRestClassifier\n",
    "from sklearn.metrics import hamming_loss, accuracy_score, precision_score, recall_score, f1_score"
   ]
  },
  {
   "cell_type": "code",
   "execution_count": 2,
   "id": "977659d0",
   "metadata": {},
   "outputs": [],
   "source": [
    "import warnings\n",
    "\n",
    "# Ignorer tous les avertissements\n",
    "warnings.filterwarnings(\"ignore\")\n"
   ]
  },
  {
   "cell_type": "code",
   "execution_count": 3,
   "id": "0758999b",
   "metadata": {},
   "outputs": [],
   "source": [
    "data = pd.read_csv(f'data_final.csv')"
   ]
  },
  {
   "cell_type": "code",
   "execution_count": 4,
   "id": "cee45fa5",
   "metadata": {},
   "outputs": [],
   "source": [
    "# Supprimer la colonne Unnamed: 0\n",
    "data = data.drop(columns=['Unnamed: 0'])"
   ]
  },
  {
   "cell_type": "code",
   "execution_count": 5,
   "id": "c6554dec",
   "metadata": {},
   "outputs": [
    {
     "data": {
      "text/html": [
       "<div>\n",
       "<style scoped>\n",
       "    .dataframe tbody tr th:only-of-type {\n",
       "        vertical-align: middle;\n",
       "    }\n",
       "\n",
       "    .dataframe tbody tr th {\n",
       "        vertical-align: top;\n",
       "    }\n",
       "\n",
       "    .dataframe thead th {\n",
       "        text-align: right;\n",
       "    }\n",
       "</style>\n",
       "<table border=\"1\" class=\"dataframe\">\n",
       "  <thead>\n",
       "    <tr style=\"text-align: right;\">\n",
       "      <th></th>\n",
       "      <th>Question</th>\n",
       "      <th>Tags</th>\n",
       "    </tr>\n",
       "  </thead>\n",
       "  <tbody>\n",
       "    <tr>\n",
       "      <th>0</th>\n",
       "      <td>fastest way get value looking fastest way obta...</td>\n",
       "      <td>performance algorithm</td>\n",
       "    </tr>\n",
       "    <tr>\n",
       "      <th>1</th>\n",
       "      <td>use socket api issue getting socket api work p...</td>\n",
       "      <td>c++ c</td>\n",
       "    </tr>\n",
       "    <tr>\n",
       "      <th>2</th>\n",
       "      <td>net xml comment api documentation easy way pro...</td>\n",
       "      <td>visual-studio</td>\n",
       "    </tr>\n",
       "  </tbody>\n",
       "</table>\n",
       "</div>"
      ],
      "text/plain": [
       "                                            Question                   Tags\n",
       "0  fastest way get value looking fastest way obta...  performance algorithm\n",
       "1  use socket api issue getting socket api work p...                  c++ c\n",
       "2  net xml comment api documentation easy way pro...          visual-studio"
      ]
     },
     "execution_count": 5,
     "metadata": {},
     "output_type": "execute_result"
    }
   ],
   "source": [
    "data.head(3)"
   ]
  },
  {
   "cell_type": "code",
   "execution_count": 6,
   "id": "5b83da0f",
   "metadata": {},
   "outputs": [],
   "source": [
    "data['Tags'] = data['Tags'].str.split()"
   ]
  },
  {
   "cell_type": "code",
   "execution_count": 7,
   "id": "52a78008",
   "metadata": {},
   "outputs": [],
   "source": [
    "# Prendre un échantillon aléatoire de 2000 lignes du DataFrame\n",
    "sample_data = data.sample(n=2000, random_state=42)"
   ]
  },
  {
   "cell_type": "code",
   "execution_count": 8,
   "id": "74b5add8",
   "metadata": {},
   "outputs": [],
   "source": [
    "X = sample_data['Question']\n",
    "y = sample_data['Tags']"
   ]
  },
  {
   "cell_type": "code",
   "execution_count": 9,
   "id": "91e0ea02",
   "metadata": {},
   "outputs": [
    {
     "data": {
      "text/plain": [
       "['database', 'algorithm']"
      ]
     },
     "execution_count": 9,
     "metadata": {},
     "output_type": "execute_result"
    }
   ],
   "source": [
    "y.iloc[0]"
   ]
  },
  {
   "cell_type": "code",
   "execution_count": 10,
   "id": "b0a9df28",
   "metadata": {},
   "outputs": [],
   "source": [
    "multilabel_binarizer = MultiLabelBinarizer()\n",
    "y_bin = multilabel_binarizer.fit_transform(y)"
   ]
  },
  {
   "cell_type": "code",
   "execution_count": 11,
   "id": "567a2cd8",
   "metadata": {},
   "outputs": [
    {
     "data": {
      "text/plain": [
       "array([[1, 0, 0, 0, 0, 0, 0, 0, 0, 0, 0, 1, 0, 0, 0, 0, 0, 0, 0, 0, 0, 0,\n",
       "        0, 0, 0, 0, 0, 0, 0, 0, 0, 0, 0, 0, 0, 0, 0, 0, 0, 0, 0, 0, 0, 0,\n",
       "        0, 0, 0, 0],\n",
       "       [0, 0, 0, 0, 0, 0, 1, 0, 1, 0, 0, 0, 0, 0, 0, 0, 0, 0, 0, 0, 0, 0,\n",
       "        0, 0, 0, 0, 0, 0, 0, 0, 0, 0, 0, 0, 0, 0, 0, 0, 0, 0, 0, 0, 0, 0,\n",
       "        0, 0, 0, 0]])"
      ]
     },
     "execution_count": 11,
     "metadata": {},
     "output_type": "execute_result"
    }
   ],
   "source": [
    "y_bin[:2]"
   ]
  },
  {
   "cell_type": "code",
   "execution_count": 12,
   "id": "bcaba3a9",
   "metadata": {},
   "outputs": [
    {
     "data": {
      "text/plain": [
       "[(0, 1), (11, 1)]"
      ]
     },
     "execution_count": 12,
     "metadata": {},
     "output_type": "execute_result"
    }
   ],
   "source": [
    "[(index_label, yy) for (index_label, yy) in enumerate(y_bin[0]) if yy==1]"
   ]
  },
  {
   "cell_type": "code",
   "execution_count": 13,
   "id": "5274fb72",
   "metadata": {},
   "outputs": [
    {
     "name": "stdout",
     "output_type": "stream",
     "text": [
      "['algorithm' 'amazon-web-services' 'android' 'angular' 'arrays' 'asp.net'\n",
      " 'asp.net-mvc' 'c' 'c#' 'c++' 'css' 'database' 'django' 'docker' 'gcc'\n",
      " 'html' 'ios' 'iphone' 'java' 'javascript' 'jquery' 'json' 'linux' 'macos'\n",
      " 'multithreading' 'mysql' 'node.js' 'objective-c' 'pandas' 'performance'\n",
      " 'php' 'postgresql' 'python' 'r' 'reactjs' 'ruby' 'ruby-on-rails' 'spring'\n",
      " 'spring-boot' 'sql' 'sql-server' 'string' 'swift' 'typescript'\n",
      " 'unit-testing' 'visual-studio' 'windows' 'xcode']\n"
     ]
    },
    {
     "data": {
      "text/plain": [
       "48"
      ]
     },
     "execution_count": 13,
     "metadata": {},
     "output_type": "execute_result"
    }
   ],
   "source": [
    "classes = multilabel_binarizer.classes_\n",
    "print(classes)\n",
    "len(classes)"
   ]
  },
  {
   "cell_type": "code",
   "execution_count": 14,
   "id": "4bde9827",
   "metadata": {},
   "outputs": [],
   "source": [
    "vectorizer_X = TfidfVectorizer(analyzer = 'word',\n",
    "                                       min_df=0.0,\n",
    "                                       max_df = 1.0,\n",
    "                                       strip_accents = None,\n",
    "                                       encoding = 'utf-8', \n",
    "                                       preprocessor=None,\n",
    "                                       token_pattern=r\"(?u)\\S\\S+\",\n",
    "                                       max_features=1000)\n"
   ]
  },
  {
   "cell_type": "code",
   "execution_count": 15,
   "id": "836685eb",
   "metadata": {},
   "outputs": [],
   "source": [
    "X_tfidf = vectorizer_X.fit_transform(X)"
   ]
  },
  {
   "cell_type": "code",
   "execution_count": 16,
   "id": "a0124931",
   "metadata": {},
   "outputs": [],
   "source": [
    "X_train, X_test, y_train, y_test = train_test_split(X_tfidf, y_bin, test_size = 0.2, random_state = 0) # Do 80/20 split"
   ]
  },
  {
   "cell_type": "code",
   "execution_count": 17,
   "id": "cf1ad990",
   "metadata": {},
   "outputs": [
    {
     "data": {
      "text/plain": [
       "array([[0, 0, 0, ..., 0, 0, 0],\n",
       "       [0, 0, 0, ..., 0, 0, 0],\n",
       "       [0, 0, 1, ..., 0, 0, 0],\n",
       "       ...,\n",
       "       [0, 0, 0, ..., 0, 0, 0],\n",
       "       [0, 0, 0, ..., 0, 0, 0],\n",
       "       [0, 0, 0, ..., 0, 0, 0]])"
      ]
     },
     "execution_count": 17,
     "metadata": {},
     "output_type": "execute_result"
    }
   ],
   "source": [
    "y_test"
   ]
  },
  {
   "cell_type": "markdown",
   "id": "c4866009",
   "metadata": {},
   "source": [
    "Pour évaluer les modèles, on va utiliser le score Jaccard car il est le mieux adapté à la classification multi labels"
   ]
  },
  {
   "cell_type": "code",
   "execution_count": 18,
   "id": "3d668e88",
   "metadata": {},
   "outputs": [],
   "source": [
    "def jacard_score(y_true,y_pred):\n",
    "    jacard = np.minimum(y_true,y_pred).sum(axis=1) / np.maximum(y_true,y_pred).sum(axis=1)\n",
    "    return jacard.mean()*100"
   ]
  },
  {
   "cell_type": "code",
   "execution_count": 19,
   "id": "00abbcf3",
   "metadata": {},
   "outputs": [],
   "source": [
    "def calculate_results(y_pred, y_test, model):\n",
    "    jaccard = jacard_score(y_test, y_pred)\n",
    "    hamming = hamming_loss(y_test, y_pred) \n",
    "    accuracy = accuracy_score(y_test, y_pred) \n",
    "    precision = precision_score(y_test, y_pred, average='samples')\n",
    "    recall = recall_score(y_test, y_pred, average='samples') \n",
    "    f1 = f1_score(y_test, y_pred, average='macro')\n",
    "    return jaccard, hamming, accuracy, precision, recall, f1\n"
   ]
  },
  {
   "cell_type": "code",
   "execution_count": 20,
   "id": "4733ea28",
   "metadata": {},
   "outputs": [],
   "source": [
    "sgd = SGDClassifier()\n",
    "lr = LogisticRegression()\n",
    "mn = MultinomialNB()\n",
    "svc = LinearSVC()\n"
   ]
  },
  {
   "cell_type": "code",
   "execution_count": 21,
   "id": "c0d9c6b7",
   "metadata": {},
   "outputs": [],
   "source": [
    "# Définir les classificateurs à tester\n",
    "classifiers = [SGDClassifier(), LogisticRegression(), MultinomialNB(), LinearSVC()]\n",
    "\n",
    "# Initialiser une liste pour stocker les résultats\n",
    "results_list = []\n",
    "\n",
    "# Définir les noms des modèles\n",
    "model_names = ['SGD', 'Logistic Regression', 'Multinomial NB', 'Linear SVC']\n",
    "\n",
    "# Définir les méthodes d'évaluation\n",
    "evaluation_methods = ['Jaccard score', 'Hamming loss', 'Accuracy', 'Precision', 'Recall', 'f1']\n",
    "\n",
    "# Boucler sur chaque classificateur\n",
    "for classifier, model_name in zip(classifiers, model_names):\n",
    "    # Créer le modèle OneVsRestClassifier\n",
    "    model = OneVsRestClassifier(classifier)\n",
    "    \n",
    "    # Entraîner le modèle\n",
    "    model.fit(X_train, y_train)\n",
    "    \n",
    "    # Faire des prédictions\n",
    "    y_pred = model.predict(X_test)\n",
    "    \n",
    "    # Calculer les résultats\n",
    "    jaccard, hamming, accuracy, precision, recall, f1 = calculate_results(y_pred, y_test, model)\n",
    "    \n",
    "    # Ajouter les résultats à la liste\n",
    "    results_list.append([model_name, jaccard, hamming, accuracy, precision, recall, f1])\n",
    "\n",
    "# Convertir la liste en DataFrame\n",
    "results_df = pd.DataFrame(results_list, columns=['Modèle'] + evaluation_methods)\n",
    "\n",
    "# Transposer le DataFrame pour avoir les modèles en colonnes et les méthodes d'évaluation en lignes\n",
    "results_df = results_df.set_index('Modèle').T\n"
   ]
  },
  {
   "cell_type": "code",
   "execution_count": 22,
   "id": "8299d6ed",
   "metadata": {},
   "outputs": [
    {
     "data": {
      "text/html": [
       "<div>\n",
       "<style scoped>\n",
       "    .dataframe tbody tr th:only-of-type {\n",
       "        vertical-align: middle;\n",
       "    }\n",
       "\n",
       "    .dataframe tbody tr th {\n",
       "        vertical-align: top;\n",
       "    }\n",
       "\n",
       "    .dataframe thead th {\n",
       "        text-align: right;\n",
       "    }\n",
       "</style>\n",
       "<table border=\"1\" class=\"dataframe\">\n",
       "  <thead>\n",
       "    <tr style=\"text-align: right;\">\n",
       "      <th>Modèle</th>\n",
       "      <th>SGD</th>\n",
       "      <th>Logistic Regression</th>\n",
       "      <th>Multinomial NB</th>\n",
       "      <th>Linear SVC</th>\n",
       "    </tr>\n",
       "  </thead>\n",
       "  <tbody>\n",
       "    <tr>\n",
       "      <th>Jaccard score</th>\n",
       "      <td>37.185714</td>\n",
       "      <td>10.629167</td>\n",
       "      <td>6.837500</td>\n",
       "      <td>35.004167</td>\n",
       "    </tr>\n",
       "    <tr>\n",
       "      <th>Hamming loss</th>\n",
       "      <td>0.029740</td>\n",
       "      <td>0.032344</td>\n",
       "      <td>0.033177</td>\n",
       "      <td>0.026979</td>\n",
       "    </tr>\n",
       "    <tr>\n",
       "      <th>Accuracy</th>\n",
       "      <td>0.205000</td>\n",
       "      <td>0.080000</td>\n",
       "      <td>0.045000</td>\n",
       "      <td>0.237500</td>\n",
       "    </tr>\n",
       "    <tr>\n",
       "      <th>Precision</th>\n",
       "      <td>0.473542</td>\n",
       "      <td>0.136250</td>\n",
       "      <td>0.090417</td>\n",
       "      <td>0.447292</td>\n",
       "    </tr>\n",
       "    <tr>\n",
       "      <th>Recall</th>\n",
       "      <td>0.442458</td>\n",
       "      <td>0.106417</td>\n",
       "      <td>0.072958</td>\n",
       "      <td>0.374958</td>\n",
       "    </tr>\n",
       "    <tr>\n",
       "      <th>f1</th>\n",
       "      <td>0.409155</td>\n",
       "      <td>0.053116</td>\n",
       "      <td>0.052672</td>\n",
       "      <td>0.372037</td>\n",
       "    </tr>\n",
       "  </tbody>\n",
       "</table>\n",
       "</div>"
      ],
      "text/plain": [
       "Modèle               SGD  Logistic Regression  Multinomial NB  Linear SVC\n",
       "Jaccard score  37.185714            10.629167        6.837500   35.004167\n",
       "Hamming loss    0.029740             0.032344        0.033177    0.026979\n",
       "Accuracy        0.205000             0.080000        0.045000    0.237500\n",
       "Precision       0.473542             0.136250        0.090417    0.447292\n",
       "Recall          0.442458             0.106417        0.072958    0.374958\n",
       "f1              0.409155             0.053116        0.052672    0.372037"
      ]
     },
     "execution_count": 22,
     "metadata": {},
     "output_type": "execute_result"
    }
   ],
   "source": [
    "results_df"
   ]
  },
  {
   "cell_type": "markdown",
   "id": "62a29271",
   "metadata": {},
   "source": [
    "Le modèle SGD obtient le meilleur Jaccard Score, Hamming Loss, Precision, Recall et F1-score parmi tous les modèles"
   ]
  },
  {
   "cell_type": "markdown",
   "id": "142efc3e",
   "metadata": {},
   "source": [
    "**SGD** semble être un bon choix global, car il offre des performances globalement meilleures."
   ]
  },
  {
   "cell_type": "markdown",
   "id": "fd022e86",
   "metadata": {},
   "source": [
    "##### SGDClassifier"
   ]
  },
  {
   "cell_type": "code",
   "execution_count": 23,
   "id": "2b9f9e2a",
   "metadata": {},
   "outputs": [
    {
     "data": {
      "text/html": [
       "<style>#sk-container-id-1 {color: black;}#sk-container-id-1 pre{padding: 0;}#sk-container-id-1 div.sk-toggleable {background-color: white;}#sk-container-id-1 label.sk-toggleable__label {cursor: pointer;display: block;width: 100%;margin-bottom: 0;padding: 0.3em;box-sizing: border-box;text-align: center;}#sk-container-id-1 label.sk-toggleable__label-arrow:before {content: \"▸\";float: left;margin-right: 0.25em;color: #696969;}#sk-container-id-1 label.sk-toggleable__label-arrow:hover:before {color: black;}#sk-container-id-1 div.sk-estimator:hover label.sk-toggleable__label-arrow:before {color: black;}#sk-container-id-1 div.sk-toggleable__content {max-height: 0;max-width: 0;overflow: hidden;text-align: left;background-color: #f0f8ff;}#sk-container-id-1 div.sk-toggleable__content pre {margin: 0.2em;color: black;border-radius: 0.25em;background-color: #f0f8ff;}#sk-container-id-1 input.sk-toggleable__control:checked~div.sk-toggleable__content {max-height: 200px;max-width: 100%;overflow: auto;}#sk-container-id-1 input.sk-toggleable__control:checked~label.sk-toggleable__label-arrow:before {content: \"▾\";}#sk-container-id-1 div.sk-estimator input.sk-toggleable__control:checked~label.sk-toggleable__label {background-color: #d4ebff;}#sk-container-id-1 div.sk-label input.sk-toggleable__control:checked~label.sk-toggleable__label {background-color: #d4ebff;}#sk-container-id-1 input.sk-hidden--visually {border: 0;clip: rect(1px 1px 1px 1px);clip: rect(1px, 1px, 1px, 1px);height: 1px;margin: -1px;overflow: hidden;padding: 0;position: absolute;width: 1px;}#sk-container-id-1 div.sk-estimator {font-family: monospace;background-color: #f0f8ff;border: 1px dotted black;border-radius: 0.25em;box-sizing: border-box;margin-bottom: 0.5em;}#sk-container-id-1 div.sk-estimator:hover {background-color: #d4ebff;}#sk-container-id-1 div.sk-parallel-item::after {content: \"\";width: 100%;border-bottom: 1px solid gray;flex-grow: 1;}#sk-container-id-1 div.sk-label:hover label.sk-toggleable__label {background-color: #d4ebff;}#sk-container-id-1 div.sk-serial::before {content: \"\";position: absolute;border-left: 1px solid gray;box-sizing: border-box;top: 0;bottom: 0;left: 50%;z-index: 0;}#sk-container-id-1 div.sk-serial {display: flex;flex-direction: column;align-items: center;background-color: white;padding-right: 0.2em;padding-left: 0.2em;position: relative;}#sk-container-id-1 div.sk-item {position: relative;z-index: 1;}#sk-container-id-1 div.sk-parallel {display: flex;align-items: stretch;justify-content: center;background-color: white;position: relative;}#sk-container-id-1 div.sk-item::before, #sk-container-id-1 div.sk-parallel-item::before {content: \"\";position: absolute;border-left: 1px solid gray;box-sizing: border-box;top: 0;bottom: 0;left: 50%;z-index: -1;}#sk-container-id-1 div.sk-parallel-item {display: flex;flex-direction: column;z-index: 1;position: relative;background-color: white;}#sk-container-id-1 div.sk-parallel-item:first-child::after {align-self: flex-end;width: 50%;}#sk-container-id-1 div.sk-parallel-item:last-child::after {align-self: flex-start;width: 50%;}#sk-container-id-1 div.sk-parallel-item:only-child::after {width: 0;}#sk-container-id-1 div.sk-dashed-wrapped {border: 1px dashed gray;margin: 0 0.4em 0.5em 0.4em;box-sizing: border-box;padding-bottom: 0.4em;background-color: white;}#sk-container-id-1 div.sk-label label {font-family: monospace;font-weight: bold;display: inline-block;line-height: 1.2em;}#sk-container-id-1 div.sk-label-container {text-align: center;}#sk-container-id-1 div.sk-container {/* jupyter's `normalize.less` sets `[hidden] { display: none; }` but bootstrap.min.css set `[hidden] { display: none !important; }` so we also need the `!important` here to be able to override the default hidden behavior on the sphinx rendered scikit-learn.org. See: https://github.com/scikit-learn/scikit-learn/issues/21755 */display: inline-block !important;position: relative;}#sk-container-id-1 div.sk-text-repr-fallback {display: none;}</style><div id=\"sk-container-id-1\" class=\"sk-top-container\"><div class=\"sk-text-repr-fallback\"><pre>GridSearchCV(cv=5, estimator=OneVsRestClassifier(estimator=SGDClassifier()),\n",
       "             param_grid={&#x27;estimator__alpha&#x27;: [0.0001, 0.001, 0.01],\n",
       "                         &#x27;estimator__learning_rate&#x27;: [&#x27;optimal&#x27;, &#x27;constant&#x27;,\n",
       "                                                      &#x27;adaptive&#x27;],\n",
       "                         &#x27;estimator__loss&#x27;: [&#x27;hinge&#x27;, &#x27;log&#x27;, &#x27;modified_huber&#x27;],\n",
       "                         &#x27;estimator__penalty&#x27;: [&#x27;l1&#x27;, &#x27;l2&#x27;, &#x27;elasticnet&#x27;]},\n",
       "             scoring=&#x27;accuracy&#x27;)</pre><b>In a Jupyter environment, please rerun this cell to show the HTML representation or trust the notebook. <br />On GitHub, the HTML representation is unable to render, please try loading this page with nbviewer.org.</b></div><div class=\"sk-container\" hidden><div class=\"sk-item sk-dashed-wrapped\"><div class=\"sk-label-container\"><div class=\"sk-label sk-toggleable\"><input class=\"sk-toggleable__control sk-hidden--visually\" id=\"sk-estimator-id-1\" type=\"checkbox\" ><label for=\"sk-estimator-id-1\" class=\"sk-toggleable__label sk-toggleable__label-arrow\">GridSearchCV</label><div class=\"sk-toggleable__content\"><pre>GridSearchCV(cv=5, estimator=OneVsRestClassifier(estimator=SGDClassifier()),\n",
       "             param_grid={&#x27;estimator__alpha&#x27;: [0.0001, 0.001, 0.01],\n",
       "                         &#x27;estimator__learning_rate&#x27;: [&#x27;optimal&#x27;, &#x27;constant&#x27;,\n",
       "                                                      &#x27;adaptive&#x27;],\n",
       "                         &#x27;estimator__loss&#x27;: [&#x27;hinge&#x27;, &#x27;log&#x27;, &#x27;modified_huber&#x27;],\n",
       "                         &#x27;estimator__penalty&#x27;: [&#x27;l1&#x27;, &#x27;l2&#x27;, &#x27;elasticnet&#x27;]},\n",
       "             scoring=&#x27;accuracy&#x27;)</pre></div></div></div><div class=\"sk-parallel\"><div class=\"sk-parallel-item\"><div class=\"sk-item\"><div class=\"sk-label-container\"><div class=\"sk-label sk-toggleable\"><input class=\"sk-toggleable__control sk-hidden--visually\" id=\"sk-estimator-id-2\" type=\"checkbox\" ><label for=\"sk-estimator-id-2\" class=\"sk-toggleable__label sk-toggleable__label-arrow\">estimator: OneVsRestClassifier</label><div class=\"sk-toggleable__content\"><pre>OneVsRestClassifier(estimator=SGDClassifier())</pre></div></div></div><div class=\"sk-serial\"><div class=\"sk-item sk-dashed-wrapped\"><div class=\"sk-parallel\"><div class=\"sk-parallel-item\"><div class=\"sk-item\"><div class=\"sk-label-container\"><div class=\"sk-label sk-toggleable\"><input class=\"sk-toggleable__control sk-hidden--visually\" id=\"sk-estimator-id-3\" type=\"checkbox\" ><label for=\"sk-estimator-id-3\" class=\"sk-toggleable__label sk-toggleable__label-arrow\">estimator: SGDClassifier</label><div class=\"sk-toggleable__content\"><pre>SGDClassifier()</pre></div></div></div><div class=\"sk-serial\"><div class=\"sk-item\"><div class=\"sk-estimator sk-toggleable\"><input class=\"sk-toggleable__control sk-hidden--visually\" id=\"sk-estimator-id-4\" type=\"checkbox\" ><label for=\"sk-estimator-id-4\" class=\"sk-toggleable__label sk-toggleable__label-arrow\">SGDClassifier</label><div class=\"sk-toggleable__content\"><pre>SGDClassifier()</pre></div></div></div></div></div></div></div></div></div></div></div></div></div></div></div>"
      ],
      "text/plain": [
       "GridSearchCV(cv=5, estimator=OneVsRestClassifier(estimator=SGDClassifier()),\n",
       "             param_grid={'estimator__alpha': [0.0001, 0.001, 0.01],\n",
       "                         'estimator__learning_rate': ['optimal', 'constant',\n",
       "                                                      'adaptive'],\n",
       "                         'estimator__loss': ['hinge', 'log', 'modified_huber'],\n",
       "                         'estimator__penalty': ['l1', 'l2', 'elasticnet']},\n",
       "             scoring='accuracy')"
      ]
     },
     "execution_count": 23,
     "metadata": {},
     "output_type": "execute_result"
    }
   ],
   "source": [
    "from sklearn.model_selection import GridSearchCV\n",
    "\n",
    "# Définir les hyperparamètres à rechercher\n",
    "param_grid = {\n",
    "    'estimator__alpha': [0.0001, 0.001, 0.01],\n",
    "    'estimator__loss': ['hinge', 'log', 'modified_huber'],\n",
    "    'estimator__penalty': ['l1', 'l2', 'elasticnet'],\n",
    "    'estimator__learning_rate': ['optimal', 'constant', 'adaptive']\n",
    "}\n",
    "\n",
    "# Créer une instance de GridSearchCV\n",
    "grid_search = GridSearchCV(\n",
    "    estimator=OneVsRestClassifier(SGDClassifier()),\n",
    "    param_grid=param_grid,\n",
    "    scoring='accuracy',  # Choisissez la métrique de performance appropriée\n",
    "    cv=5  # Nombre de folds pour la validation croisée\n",
    ")\n",
    "\n",
    "# Ajuster GridSearchCV sur les données d'entraînement\n",
    "grid_search.fit(X_train, y_train)\n",
    "\n",
    "\n"
   ]
  },
  {
   "cell_type": "code",
   "execution_count": 24,
   "id": "d4d96a62",
   "metadata": {},
   "outputs": [
    {
     "name": "stdout",
     "output_type": "stream",
     "text": [
      "Best Parameters: {'estimator__alpha': 0.001, 'estimator__learning_rate': 'optimal', 'estimator__loss': 'modified_huber', 'estimator__penalty': 'l1'}\n",
      "Best Score: 0.24437499999999995\n"
     ]
    }
   ],
   "source": [
    "# Afficher les meilleurs paramètres et le score correspondant\n",
    "print(\"Best Parameters:\", grid_search.best_params_)\n",
    "print(\"Best Score:\", grid_search.best_score_)"
   ]
  },
  {
   "cell_type": "code",
   "execution_count": 25,
   "id": "f8d33b88",
   "metadata": {},
   "outputs": [],
   "source": [
    "# Utiliser les meilleurs paramètres trouvés\n",
    "best_params = grid_search.best_params_\n",
    "\n",
    "# Créer une instance de SGDClassifier avec les meilleurs paramètres\n",
    "sgd_classifier = SGDClassifier(alpha=best_params['estimator__alpha'], loss=best_params['estimator__loss'],\n",
    "                              penalty=best_params['estimator__penalty'], \n",
    "                              learning_rate=best_params['estimator__learning_rate'])\n",
    "\n",
    "# Créer une instance de OneVsRestClassifier avec le SGDClassifier optimisé\n",
    "final_model = OneVsRestClassifier(sgd_classifier)\n",
    "\n",
    "# Ajuster le modèle final sur les données d'entraînement\n",
    "final_model.fit(X_train, y_train)\n",
    "\n",
    "# Faire des prédictions sur les données de test\n",
    "y_pred = final_model.predict(X_test)\n"
   ]
  },
  {
   "cell_type": "code",
   "execution_count": 26,
   "id": "96d20e0b",
   "metadata": {},
   "outputs": [
    {
     "name": "stdout",
     "output_type": "stream",
     "text": [
      "0.27\n"
     ]
    }
   ],
   "source": [
    "accuracy = accuracy_score(y_test, y_pred) \n",
    "print(accuracy)"
   ]
  },
  {
   "cell_type": "code",
   "execution_count": 27,
   "id": "98fa6364",
   "metadata": {},
   "outputs": [
    {
     "data": {
      "text/plain": [
       "['multilabel_binarizer.joblib']"
      ]
     },
     "execution_count": 27,
     "metadata": {},
     "output_type": "execute_result"
    }
   ],
   "source": [
    "from joblib import dump, load\n",
    "\n",
    "# Save the model\n",
    "dump(final_model, 'model_sgd.joblib')\n",
    "dump(vectorizer_X, 'vectorizer_X.joblib')\n",
    "dump(multilabel_binarizer, 'multilabel_binarizer.joblib')"
   ]
  },
  {
   "cell_type": "code",
   "execution_count": 28,
   "id": "93735a14",
   "metadata": {},
   "outputs": [],
   "source": [
    "# Load the model\n",
    "loaded_model = load('model_sgd.joblib')\n",
    "loaded_vectorizer = load('vectorizer_X.joblib')\n"
   ]
  },
  {
   "cell_type": "code",
   "execution_count": 29,
   "id": "cb4e861e",
   "metadata": {},
   "outputs": [
    {
     "data": {
      "text/plain": [
       "(400, 1000)"
      ]
     },
     "execution_count": 29,
     "metadata": {},
     "output_type": "execute_result"
    }
   ],
   "source": [
    "X_test.shape"
   ]
  },
  {
   "cell_type": "markdown",
   "id": "a8c1a900",
   "metadata": {},
   "source": [
    "Test"
   ]
  },
  {
   "cell_type": "code",
   "execution_count": 38,
   "id": "cd0201fb",
   "metadata": {},
   "outputs": [
    {
     "data": {
      "text/plain": [
       "<1x1000 sparse matrix of type '<class 'numpy.float64'>'\n",
       "\twith 9 stored elements in Compressed Sparse Row format>"
      ]
     },
     "execution_count": 38,
     "metadata": {},
     "output_type": "execute_result"
    }
   ],
   "source": [
    "x = loaded_vectorizer.transform([\"How can I effectively integrate Python and Cpp in a single application to leverage the strengths of both languages?I am working on a project where I need to combine the rapid development capabilities of Python with the performance efficiency of Cpp\"])\n",
    "x"
   ]
  },
  {
   "cell_type": "code",
   "execution_count": 39,
   "id": "bbdee727",
   "metadata": {},
   "outputs": [],
   "source": [
    "predictions = loaded_model.predict(x)"
   ]
  },
  {
   "cell_type": "code",
   "execution_count": 40,
   "id": "d24398ef",
   "metadata": {},
   "outputs": [
    {
     "data": {
      "text/plain": [
       "array([[0, 0, 0, 0, 0, 0, 0, 0, 0, 1, 0, 0, 0, 0, 0, 0, 0, 0, 0, 0, 0, 0,\n",
       "        0, 0, 0, 0, 0, 0, 0, 0, 0, 0, 1, 0, 0, 0, 0, 0, 0, 0, 0, 0, 0, 0,\n",
       "        0, 0, 0, 0]])"
      ]
     },
     "execution_count": 40,
     "metadata": {},
     "output_type": "execute_result"
    }
   ],
   "source": [
    "predictions\n"
   ]
  },
  {
   "cell_type": "code",
   "execution_count": 41,
   "id": "9730741d",
   "metadata": {},
   "outputs": [
    {
     "name": "stdout",
     "output_type": "stream",
     "text": [
      "Predicted labels: ['c++', 'python']\n"
     ]
    }
   ],
   "source": [
    "predicted_labels = [classes[i] for i, prediction in enumerate(predictions[0]) if prediction == 1]\n",
    "\n",
    "print(\"Predicted labels:\", predicted_labels)\n"
   ]
  },
  {
   "cell_type": "code",
   "execution_count": null,
   "id": "6385f7ca",
   "metadata": {},
   "outputs": [],
   "source": []
  }
 ],
 "metadata": {
  "kernelspec": {
   "display_name": "Python 3 (ipykernel)",
   "language": "python",
   "name": "python3"
  },
  "language_info": {
   "codemirror_mode": {
    "name": "ipython",
    "version": 3
   },
   "file_extension": ".py",
   "mimetype": "text/x-python",
   "name": "python",
   "nbconvert_exporter": "python",
   "pygments_lexer": "ipython3",
   "version": "3.11.5"
  }
 },
 "nbformat": 4,
 "nbformat_minor": 5
}
